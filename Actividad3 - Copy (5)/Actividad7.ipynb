{
  "nbformat": 4,
  "nbformat_minor": 0,
  "metadata": {
    "colab": {
      "provenance": []
    },
    "kernelspec": {
      "name": "python3",
      "display_name": "Python 3"
    },
    "language_info": {
      "name": "python"
    }
  },
  "cells": [
    {
      "cell_type": "code",
      "execution_count": null,
      "metadata": {
        "id": "McVnxKupKT6t"
      },
      "outputs": [],
      "source": [
        "import pandas as pd"
      ]
    },
    {
      "cell_type": "code",
      "source": [
        "#Creamos la variable datos_consumo para cargar el archivo con la función read_excel de la librería Pandas:\n",
        "datos_consumo = pd.read_excel('datos1.xlsx')"
      ],
      "metadata": {
        "id": "-7OL4tDKLCx7"
      },
      "execution_count": null,
      "outputs": []
    },
    {
      "cell_type": "code",
      "source": [
        "#Usamos la función head() para comprobar que los datos se cargaron correctemente en el dataframe viendo los primeros 5 registros:\n",
        "datos_consumo.head(5)"
      ],
      "metadata": {
        "colab": {
          "base_uri": "https://localhost:8080/",
          "height": 310
        },
        "id": "3dSZP3SPLJIH",
        "outputId": "572a73e3-1d58-43a0-90c3-3d211b9b7df2"
      },
      "execution_count": null,
      "outputs": [
        {
          "output_type": "execute_result",
          "data": {
            "text/plain": [
              "  Fecha (dd/mm/aa)   Momento             Nombre alimento  Calorías (kcal)  \\\n",
              "0       2022-08-18  desayno                    capuccino               74   \n",
              "1       2022-08-18     snack           fresas con chamoy               56   \n",
              "2       2022-08-18    comida  2 tacos de pollo y brocoli              400   \n",
              "3       2022-08-18      cena                 quesadillas              225   \n",
              "4       2022-08-19  desayuno                latte helado               99   \n",
              "\n",
              "   Carbohidratos (g)  Lípidos/grasas (g)  Proteína (g)  Sodio (mg)  \\\n",
              "0               5.81                3.98          5.08          50   \n",
              "1              14.00                0.00          0.00           2   \n",
              "2              16.60                0.00          0.96          98   \n",
              "3              22.35                0.00         10.00         409   \n",
              "4              17.00                0.00          1.00          30   \n",
              "\n",
              "                                              Fuente  \n",
              "0  https://www.fatsecret.com.mx/calor%C3%ADas-nut...  \n",
              "1  https://www.fatsecret.com.mx/calor%C3%ADas-nut...  \n",
              "2  https://www.fatsecret.com.mx/calor%C3%ADas-nut...  \n",
              "3  https://www.fatsecret.com.mx/calor%C3%ADas-nut...  \n",
              "4  https://www.fatsecret.com.mx/calor%C3%ADas-nut...  "
            ],
            "text/html": [
              "\n",
              "  <div id=\"df-93e8a57e-21d0-4b91-a2aa-6add4814554a\" class=\"colab-df-container\">\n",
              "    <div>\n",
              "<style scoped>\n",
              "    .dataframe tbody tr th:only-of-type {\n",
              "        vertical-align: middle;\n",
              "    }\n",
              "\n",
              "    .dataframe tbody tr th {\n",
              "        vertical-align: top;\n",
              "    }\n",
              "\n",
              "    .dataframe thead th {\n",
              "        text-align: right;\n",
              "    }\n",
              "</style>\n",
              "<table border=\"1\" class=\"dataframe\">\n",
              "  <thead>\n",
              "    <tr style=\"text-align: right;\">\n",
              "      <th></th>\n",
              "      <th>Fecha (dd/mm/aa)</th>\n",
              "      <th>Momento</th>\n",
              "      <th>Nombre alimento</th>\n",
              "      <th>Calorías (kcal)</th>\n",
              "      <th>Carbohidratos (g)</th>\n",
              "      <th>Lípidos/grasas (g)</th>\n",
              "      <th>Proteína (g)</th>\n",
              "      <th>Sodio (mg)</th>\n",
              "      <th>Fuente</th>\n",
              "    </tr>\n",
              "  </thead>\n",
              "  <tbody>\n",
              "    <tr>\n",
              "      <th>0</th>\n",
              "      <td>2022-08-18</td>\n",
              "      <td>desayno</td>\n",
              "      <td>capuccino</td>\n",
              "      <td>74</td>\n",
              "      <td>5.81</td>\n",
              "      <td>3.98</td>\n",
              "      <td>5.08</td>\n",
              "      <td>50</td>\n",
              "      <td>https://www.fatsecret.com.mx/calor%C3%ADas-nut...</td>\n",
              "    </tr>\n",
              "    <tr>\n",
              "      <th>1</th>\n",
              "      <td>2022-08-18</td>\n",
              "      <td>snack</td>\n",
              "      <td>fresas con chamoy</td>\n",
              "      <td>56</td>\n",
              "      <td>14.00</td>\n",
              "      <td>0.00</td>\n",
              "      <td>0.00</td>\n",
              "      <td>2</td>\n",
              "      <td>https://www.fatsecret.com.mx/calor%C3%ADas-nut...</td>\n",
              "    </tr>\n",
              "    <tr>\n",
              "      <th>2</th>\n",
              "      <td>2022-08-18</td>\n",
              "      <td>comida</td>\n",
              "      <td>2 tacos de pollo y brocoli</td>\n",
              "      <td>400</td>\n",
              "      <td>16.60</td>\n",
              "      <td>0.00</td>\n",
              "      <td>0.96</td>\n",
              "      <td>98</td>\n",
              "      <td>https://www.fatsecret.com.mx/calor%C3%ADas-nut...</td>\n",
              "    </tr>\n",
              "    <tr>\n",
              "      <th>3</th>\n",
              "      <td>2022-08-18</td>\n",
              "      <td>cena</td>\n",
              "      <td>quesadillas</td>\n",
              "      <td>225</td>\n",
              "      <td>22.35</td>\n",
              "      <td>0.00</td>\n",
              "      <td>10.00</td>\n",
              "      <td>409</td>\n",
              "      <td>https://www.fatsecret.com.mx/calor%C3%ADas-nut...</td>\n",
              "    </tr>\n",
              "    <tr>\n",
              "      <th>4</th>\n",
              "      <td>2022-08-19</td>\n",
              "      <td>desayuno</td>\n",
              "      <td>latte helado</td>\n",
              "      <td>99</td>\n",
              "      <td>17.00</td>\n",
              "      <td>0.00</td>\n",
              "      <td>1.00</td>\n",
              "      <td>30</td>\n",
              "      <td>https://www.fatsecret.com.mx/calor%C3%ADas-nut...</td>\n",
              "    </tr>\n",
              "  </tbody>\n",
              "</table>\n",
              "</div>\n",
              "    <div class=\"colab-df-buttons\">\n",
              "\n",
              "  <div class=\"colab-df-container\">\n",
              "    <button class=\"colab-df-convert\" onclick=\"convertToInteractive('df-93e8a57e-21d0-4b91-a2aa-6add4814554a')\"\n",
              "            title=\"Convert this dataframe to an interactive table.\"\n",
              "            style=\"display:none;\">\n",
              "\n",
              "  <svg xmlns=\"http://www.w3.org/2000/svg\" height=\"24px\" viewBox=\"0 -960 960 960\">\n",
              "    <path d=\"M120-120v-720h720v720H120Zm60-500h600v-160H180v160Zm220 220h160v-160H400v160Zm0 220h160v-160H400v160ZM180-400h160v-160H180v160Zm440 0h160v-160H620v160ZM180-180h160v-160H180v160Zm440 0h160v-160H620v160Z\"/>\n",
              "  </svg>\n",
              "    </button>\n",
              "\n",
              "  <style>\n",
              "    .colab-df-container {\n",
              "      display:flex;\n",
              "      gap: 12px;\n",
              "    }\n",
              "\n",
              "    .colab-df-convert {\n",
              "      background-color: #E8F0FE;\n",
              "      border: none;\n",
              "      border-radius: 50%;\n",
              "      cursor: pointer;\n",
              "      display: none;\n",
              "      fill: #1967D2;\n",
              "      height: 32px;\n",
              "      padding: 0 0 0 0;\n",
              "      width: 32px;\n",
              "    }\n",
              "\n",
              "    .colab-df-convert:hover {\n",
              "      background-color: #E2EBFA;\n",
              "      box-shadow: 0px 1px 2px rgba(60, 64, 67, 0.3), 0px 1px 3px 1px rgba(60, 64, 67, 0.15);\n",
              "      fill: #174EA6;\n",
              "    }\n",
              "\n",
              "    .colab-df-buttons div {\n",
              "      margin-bottom: 4px;\n",
              "    }\n",
              "\n",
              "    [theme=dark] .colab-df-convert {\n",
              "      background-color: #3B4455;\n",
              "      fill: #D2E3FC;\n",
              "    }\n",
              "\n",
              "    [theme=dark] .colab-df-convert:hover {\n",
              "      background-color: #434B5C;\n",
              "      box-shadow: 0px 1px 3px 1px rgba(0, 0, 0, 0.15);\n",
              "      filter: drop-shadow(0px 1px 2px rgba(0, 0, 0, 0.3));\n",
              "      fill: #FFFFFF;\n",
              "    }\n",
              "  </style>\n",
              "\n",
              "    <script>\n",
              "      const buttonEl =\n",
              "        document.querySelector('#df-93e8a57e-21d0-4b91-a2aa-6add4814554a button.colab-df-convert');\n",
              "      buttonEl.style.display =\n",
              "        google.colab.kernel.accessAllowed ? 'block' : 'none';\n",
              "\n",
              "      async function convertToInteractive(key) {\n",
              "        const element = document.querySelector('#df-93e8a57e-21d0-4b91-a2aa-6add4814554a');\n",
              "        const dataTable =\n",
              "          await google.colab.kernel.invokeFunction('convertToInteractive',\n",
              "                                                    [key], {});\n",
              "        if (!dataTable) return;\n",
              "\n",
              "        const docLinkHtml = 'Like what you see? Visit the ' +\n",
              "          '<a target=\"_blank\" href=https://colab.research.google.com/notebooks/data_table.ipynb>data table notebook</a>'\n",
              "          + ' to learn more about interactive tables.';\n",
              "        element.innerHTML = '';\n",
              "        dataTable['output_type'] = 'display_data';\n",
              "        await google.colab.output.renderOutput(dataTable, element);\n",
              "        const docLink = document.createElement('div');\n",
              "        docLink.innerHTML = docLinkHtml;\n",
              "        element.appendChild(docLink);\n",
              "      }\n",
              "    </script>\n",
              "  </div>\n",
              "\n",
              "\n",
              "<div id=\"df-1f0ff1b1-c4c4-4423-985a-35bc30ebe0b2\">\n",
              "  <button class=\"colab-df-quickchart\" onclick=\"quickchart('df-1f0ff1b1-c4c4-4423-985a-35bc30ebe0b2')\"\n",
              "            title=\"Suggest charts\"\n",
              "            style=\"display:none;\">\n",
              "\n",
              "<svg xmlns=\"http://www.w3.org/2000/svg\" height=\"24px\"viewBox=\"0 0 24 24\"\n",
              "     width=\"24px\">\n",
              "    <g>\n",
              "        <path d=\"M19 3H5c-1.1 0-2 .9-2 2v14c0 1.1.9 2 2 2h14c1.1 0 2-.9 2-2V5c0-1.1-.9-2-2-2zM9 17H7v-7h2v7zm4 0h-2V7h2v10zm4 0h-2v-4h2v4z\"/>\n",
              "    </g>\n",
              "</svg>\n",
              "  </button>\n",
              "\n",
              "<style>\n",
              "  .colab-df-quickchart {\n",
              "      --bg-color: #E8F0FE;\n",
              "      --fill-color: #1967D2;\n",
              "      --hover-bg-color: #E2EBFA;\n",
              "      --hover-fill-color: #174EA6;\n",
              "      --disabled-fill-color: #AAA;\n",
              "      --disabled-bg-color: #DDD;\n",
              "  }\n",
              "\n",
              "  [theme=dark] .colab-df-quickchart {\n",
              "      --bg-color: #3B4455;\n",
              "      --fill-color: #D2E3FC;\n",
              "      --hover-bg-color: #434B5C;\n",
              "      --hover-fill-color: #FFFFFF;\n",
              "      --disabled-bg-color: #3B4455;\n",
              "      --disabled-fill-color: #666;\n",
              "  }\n",
              "\n",
              "  .colab-df-quickchart {\n",
              "    background-color: var(--bg-color);\n",
              "    border: none;\n",
              "    border-radius: 50%;\n",
              "    cursor: pointer;\n",
              "    display: none;\n",
              "    fill: var(--fill-color);\n",
              "    height: 32px;\n",
              "    padding: 0;\n",
              "    width: 32px;\n",
              "  }\n",
              "\n",
              "  .colab-df-quickchart:hover {\n",
              "    background-color: var(--hover-bg-color);\n",
              "    box-shadow: 0 1px 2px rgba(60, 64, 67, 0.3), 0 1px 3px 1px rgba(60, 64, 67, 0.15);\n",
              "    fill: var(--button-hover-fill-color);\n",
              "  }\n",
              "\n",
              "  .colab-df-quickchart-complete:disabled,\n",
              "  .colab-df-quickchart-complete:disabled:hover {\n",
              "    background-color: var(--disabled-bg-color);\n",
              "    fill: var(--disabled-fill-color);\n",
              "    box-shadow: none;\n",
              "  }\n",
              "\n",
              "  .colab-df-spinner {\n",
              "    border: 2px solid var(--fill-color);\n",
              "    border-color: transparent;\n",
              "    border-bottom-color: var(--fill-color);\n",
              "    animation:\n",
              "      spin 1s steps(1) infinite;\n",
              "  }\n",
              "\n",
              "  @keyframes spin {\n",
              "    0% {\n",
              "      border-color: transparent;\n",
              "      border-bottom-color: var(--fill-color);\n",
              "      border-left-color: var(--fill-color);\n",
              "    }\n",
              "    20% {\n",
              "      border-color: transparent;\n",
              "      border-left-color: var(--fill-color);\n",
              "      border-top-color: var(--fill-color);\n",
              "    }\n",
              "    30% {\n",
              "      border-color: transparent;\n",
              "      border-left-color: var(--fill-color);\n",
              "      border-top-color: var(--fill-color);\n",
              "      border-right-color: var(--fill-color);\n",
              "    }\n",
              "    40% {\n",
              "      border-color: transparent;\n",
              "      border-right-color: var(--fill-color);\n",
              "      border-top-color: var(--fill-color);\n",
              "    }\n",
              "    60% {\n",
              "      border-color: transparent;\n",
              "      border-right-color: var(--fill-color);\n",
              "    }\n",
              "    80% {\n",
              "      border-color: transparent;\n",
              "      border-right-color: var(--fill-color);\n",
              "      border-bottom-color: var(--fill-color);\n",
              "    }\n",
              "    90% {\n",
              "      border-color: transparent;\n",
              "      border-bottom-color: var(--fill-color);\n",
              "    }\n",
              "  }\n",
              "</style>\n",
              "\n",
              "  <script>\n",
              "    async function quickchart(key) {\n",
              "      const quickchartButtonEl =\n",
              "        document.querySelector('#' + key + ' button');\n",
              "      quickchartButtonEl.disabled = true;  // To prevent multiple clicks.\n",
              "      quickchartButtonEl.classList.add('colab-df-spinner');\n",
              "      try {\n",
              "        const charts = await google.colab.kernel.invokeFunction(\n",
              "            'suggestCharts', [key], {});\n",
              "      } catch (error) {\n",
              "        console.error('Error during call to suggestCharts:', error);\n",
              "      }\n",
              "      quickchartButtonEl.classList.remove('colab-df-spinner');\n",
              "      quickchartButtonEl.classList.add('colab-df-quickchart-complete');\n",
              "    }\n",
              "    (() => {\n",
              "      let quickchartButtonEl =\n",
              "        document.querySelector('#df-1f0ff1b1-c4c4-4423-985a-35bc30ebe0b2 button');\n",
              "      quickchartButtonEl.style.display =\n",
              "        google.colab.kernel.accessAllowed ? 'block' : 'none';\n",
              "    })();\n",
              "  </script>\n",
              "</div>\n",
              "    </div>\n",
              "  </div>\n"
            ],
            "application/vnd.google.colaboratory.intrinsic+json": {
              "type": "dataframe",
              "variable_name": "datos_consumo",
              "summary": "{\n  \"name\": \"datos_consumo\",\n  \"rows\": 302,\n  \"fields\": [\n    {\n      \"column\": \"Fecha (dd/mm/aa)\",\n      \"properties\": {\n        \"dtype\": \"date\",\n        \"min\": \"2022-08-18 00:00:00\",\n        \"max\": \"2022-11-06 00:00:00\",\n        \"num_unique_values\": 81,\n        \"samples\": [\n          \"2022-09-17 00:00:00\",\n          \"2022-08-18 00:00:00\",\n          \"2022-09-09 00:00:00\"\n        ],\n        \"semantic_type\": \"\",\n        \"description\": \"\"\n      }\n    },\n    {\n      \"column\": \"Momento\",\n      \"properties\": {\n        \"dtype\": \"category\",\n        \"num_unique_values\": 6,\n        \"samples\": [\n          \"desayno \",\n          \"snack\",\n          \"cena \"\n        ],\n        \"semantic_type\": \"\",\n        \"description\": \"\"\n      }\n    },\n    {\n      \"column\": \"Nombre alimento\",\n      \"properties\": {\n        \"dtype\": \"category\",\n        \"num_unique_values\": 81,\n        \"samples\": [\n          \"frijoles\",\n          \"capuccino\",\n          \"hummus \"\n        ],\n        \"semantic_type\": \"\",\n        \"description\": \"\"\n      }\n    },\n    {\n      \"column\": \"Calor\\u00edas (kcal)\",\n      \"properties\": {\n        \"dtype\": \"number\",\n        \"std\": 155,\n        \"min\": 16,\n        \"max\": 790,\n        \"num_unique_values\": 79,\n        \"samples\": [\n          443,\n          74,\n          262\n        ],\n        \"semantic_type\": \"\",\n        \"description\": \"\"\n      }\n    },\n    {\n      \"column\": \"Carbohidratos (g)\",\n      \"properties\": {\n        \"dtype\": \"number\",\n        \"std\": 19.784906137117424,\n        \"min\": 0.85,\n        \"max\": 88.0,\n        \"num_unique_values\": 81,\n        \"samples\": [\n          10.0,\n          5.81,\n          3.0\n        ],\n        \"semantic_type\": \"\",\n        \"description\": \"\"\n      }\n    },\n    {\n      \"column\": \"L\\u00edpidos/grasas (g)\",\n      \"properties\": {\n        \"dtype\": \"number\",\n        \"std\": 8.83680443599302,\n        \"min\": 0.0,\n        \"max\": 38.51,\n        \"num_unique_values\": 76,\n        \"samples\": [\n          2.13,\n          5.0,\n          9.9\n        ],\n        \"semantic_type\": \"\",\n        \"description\": \"\"\n      }\n    },\n    {\n      \"column\": \"Prote\\u00edna (g)\",\n      \"properties\": {\n        \"dtype\": \"number\",\n        \"std\": 10.516864651557695,\n        \"min\": 0.0,\n        \"max\": 45.0,\n        \"num_unique_values\": 73,\n        \"samples\": [\n          1.0,\n          9.1,\n          18.01\n        ],\n        \"semantic_type\": \"\",\n        \"description\": \"\"\n      }\n    },\n    {\n      \"column\": \"Sodio (mg)\",\n      \"properties\": {\n        \"dtype\": \"number\",\n        \"std\": 958,\n        \"min\": 0,\n        \"max\": 8116,\n        \"num_unique_values\": 69,\n        \"samples\": [\n          628,\n          50,\n          126\n        ],\n        \"semantic_type\": \"\",\n        \"description\": \"\"\n      }\n    },\n    {\n      \"column\": \"Fuente\",\n      \"properties\": {\n        \"dtype\": \"category\",\n        \"num_unique_values\": 84,\n        \"samples\": [\n          \"https://www.fatsecret.com.mx/calor%C3%ADas-nutrici\\u00f3n/gen\\u00e9rico/alb\\u00f3ndigas-de-carne\",\n          \"https://www.fatsecret.com.mx/calor%C3%ADas-nutrici\\u00f3n/gen\\u00e9rico/capuchino\",\n          \"https://www.fatsecret.com.mx/calor%C3%ADas-nutrici\\u00f3n/gen\\u00e9rico/risotto-de-queso\"\n        ],\n        \"semantic_type\": \"\",\n        \"description\": \"\"\n      }\n    }\n  ]\n}"
            }
          },
          "metadata": {},
          "execution_count": 15
        }
      ]
    },
    {
      "cell_type": "code",
      "source": [
        "# Reemplazar cadenas incorrectas\n",
        "datos_consumo['Momento'] = datos_consumo['Momento'].replace({'desayno ': 'desayuno', 'cena ': 'cena'})\n",
        "\n",
        "# Seleccionar columnas de interés y eliminar filas con valores nulos\n",
        "datos_consumo = datos_consumo[['Carbohidratos (g)', 'Lípidos/grasas (g)', 'Proteína (g)', 'Sodio (mg)', 'Calorías (kcal)']].dropna()\n",
        "\n",
        "# Asignar variables independientes (X) y dependiente (y)\n",
        "X = datos_consumo[['Carbohidratos (g)', 'Lípidos/grasas (g)', 'Proteína (g)', 'Sodio (mg)']]\n",
        "y = datos_consumo['Calorías (kcal)']\n",
        "\n"
      ],
      "metadata": {
        "id": "vsRHeP1-LQvg"
      },
      "execution_count": null,
      "outputs": []
    },
    {
      "cell_type": "code",
      "source": [
        "import statsmodels.api as sm\n",
        "\n",
        "# Crear el modelo de regresión lineal\n",
        "modelo_regresion = sm.OLS(y, X).fit()\n"
      ],
      "metadata": {
        "id": "TxFMrUa6Mj_z"
      },
      "execution_count": null,
      "outputs": []
    },
    {
      "cell_type": "code",
      "source": [
        "# Imprimir el resumen del modelo\n",
        "print(modelo_regresion.summary())"
      ],
      "metadata": {
        "colab": {
          "base_uri": "https://localhost:8080/"
        },
        "id": "nQ-oOB3JMob5",
        "outputId": "f2ab3b09-8185-466a-bd5e-75c6dde4185b"
      },
      "execution_count": null,
      "outputs": [
        {
          "output_type": "stream",
          "name": "stdout",
          "text": [
            "                                 OLS Regression Results                                \n",
            "=======================================================================================\n",
            "Dep. Variable:        Calorías (kcal)   R-squared (uncentered):                   0.972\n",
            "Model:                            OLS   Adj. R-squared (uncentered):              0.971\n",
            "Method:                 Least Squares   F-statistic:                              2564.\n",
            "Date:                Wed, 28 Feb 2024   Prob (F-statistic):                   2.18e-229\n",
            "Time:                        19:32:07   Log-Likelihood:                         -1599.1\n",
            "No. Observations:                 302   AIC:                                      3206.\n",
            "Df Residuals:                     298   BIC:                                      3221.\n",
            "Df Model:                           4                                                  \n",
            "Covariance Type:            nonrobust                                                  \n",
            "======================================================================================\n",
            "                         coef    std err          t      P>|t|      [0.025      0.975]\n",
            "--------------------------------------------------------------------------------------\n",
            "Carbohidratos (g)      4.4044      0.113     38.989      0.000       4.182       4.627\n",
            "Lípidos/grasas (g)     7.7027      0.450     17.131      0.000       6.818       8.588\n",
            "Proteína (g)           4.5068      0.373     12.074      0.000       3.772       5.241\n",
            "Sodio (mg)             0.0009      0.003      0.299      0.765      -0.005       0.007\n",
            "==============================================================================\n",
            "Omnibus:                      331.833   Durbin-Watson:                   1.697\n",
            "Prob(Omnibus):                  0.000   Jarque-Bera (JB):            11924.000\n",
            "Skew:                           4.848   Prob(JB):                         0.00\n",
            "Kurtosis:                      32.216   Cond. No.                         203.\n",
            "==============================================================================\n",
            "\n",
            "Notes:\n",
            "[1] R² is computed without centering (uncentered) since the model does not contain a constant.\n",
            "[2] Standard Errors assume that the covariance matrix of the errors is correctly specified.\n"
          ]
        }
      ]
    },
    {
      "cell_type": "code",
      "source": [
        "# Recorrer los coeficientes del modelo y seleccionar variables con valor p < 0.05\n",
        "variables_significativas = [variable for variable, p_valor in zip(X.columns, modelo_regresion.pvalues) if p_valor < 0.05]"
      ],
      "metadata": {
        "id": "S_sNBv7zMojR"
      },
      "execution_count": null,
      "outputs": []
    },
    {
      "cell_type": "code",
      "source": [
        "# Crear un nuevo conjunto de datos con variables significativas\n",
        "X_seleccionado = X[variables_significativas]"
      ],
      "metadata": {
        "id": "QCmEz8APMomF"
      },
      "execution_count": null,
      "outputs": []
    },
    {
      "cell_type": "code",
      "source": [
        "# Ajustar un nuevo modelo de regresión lineal con las variables seleccionadas\n",
        "modelo_regresion_significativo = sm.OLS(y, X_seleccionado).fit()\n"
      ],
      "metadata": {
        "id": "W6h5NVZWMooS"
      },
      "execution_count": null,
      "outputs": []
    },
    {
      "cell_type": "code",
      "source": [
        "# Imprimir el resumen del nuevo modelo\n",
        "print(modelo_regresion_significativo.summary())"
      ],
      "metadata": {
        "colab": {
          "base_uri": "https://localhost:8080/"
        },
        "id": "Fu6pHpSwMoq2",
        "outputId": "b3147126-1c50-428f-cf1b-715552c1e808"
      },
      "execution_count": null,
      "outputs": [
        {
          "output_type": "stream",
          "name": "stdout",
          "text": [
            "                                 OLS Regression Results                                \n",
            "=======================================================================================\n",
            "Dep. Variable:        Calorías (kcal)   R-squared (uncentered):                   0.972\n",
            "Model:                            OLS   Adj. R-squared (uncentered):              0.971\n",
            "Method:                 Least Squares   F-statistic:                              3429.\n",
            "Date:                Wed, 28 Feb 2024   Prob (F-statistic):                   3.58e-231\n",
            "Time:                        19:32:39   Log-Likelihood:                         -1599.2\n",
            "No. Observations:                 302   AIC:                                      3204.\n",
            "Df Residuals:                     299   BIC:                                      3215.\n",
            "Df Model:                           3                                                  \n",
            "Covariance Type:            nonrobust                                                  \n",
            "======================================================================================\n",
            "                         coef    std err          t      P>|t|      [0.025      0.975]\n",
            "--------------------------------------------------------------------------------------\n",
            "Carbohidratos (g)      4.4086      0.112     39.401      0.000       4.188       4.629\n",
            "Lípidos/grasas (g)     7.7417      0.430     18.015      0.000       6.896       8.587\n",
            "Proteína (g)           4.5018      0.372     12.091      0.000       3.769       5.235\n",
            "==============================================================================\n",
            "Omnibus:                      331.742   Durbin-Watson:                   1.695\n",
            "Prob(Omnibus):                  0.000   Jarque-Bera (JB):            11920.083\n",
            "Skew:                           4.846   Prob(JB):                         0.00\n",
            "Kurtosis:                      32.213   Cond. No.                         7.05\n",
            "==============================================================================\n",
            "\n",
            "Notes:\n",
            "[1] R² is computed without centering (uncentered) since the model does not contain a constant.\n",
            "[2] Standard Errors assume that the covariance matrix of the errors is correctly specified.\n"
          ]
        }
      ]
    },
    {
      "cell_type": "code",
      "source": [
        "# Calcular la suma de los residuos\n",
        "suma_residuos = sum(modelo_regresion_significativo.resid)\n",
        "\n",
        "# Verificar que la suma de los residuos sea cercana a cero\n",
        "print(\"Suma de residuos:\", suma_residuos)"
      ],
      "metadata": {
        "colab": {
          "base_uri": "https://localhost:8080/"
        },
        "id": "GeJzWkSwMota",
        "outputId": "693e5594-e377-4f93-d484-f08e8c4207dd"
      },
      "execution_count": null,
      "outputs": [
        {
          "output_type": "stream",
          "name": "stdout",
          "text": [
            "Suma de residuos: 1384.886398457492\n"
          ]
        }
      ]
    },
    {
      "cell_type": "code",
      "source": [
        "import matplotlib.pyplot as plt\n",
        "\n",
        "# Graficar los residuos\n",
        "plt.scatter(modelo_regresion_significativo.fittedvalues, modelo_regresion_significativo.resid)\n",
        "plt.axhline(y=0, color='r', linestyle='--')  # Línea horizontal en y=0\n",
        "plt.xlabel('Valores Ajustados')\n",
        "plt.ylabel('Residuos')\n",
        "plt.title('Residuos vs. Valores Ajustados')\n",
        "plt.show()\n"
      ],
      "metadata": {
        "colab": {
          "base_uri": "https://localhost:8080/",
          "height": 472
        },
        "id": "L3KqYX9_OwgS",
        "outputId": "4138d5f5-c059-442e-b6e1-fa15fe00fd50"
      },
      "execution_count": null,
      "outputs": [
        {
          "output_type": "display_data",
          "data": {
            "text/plain": [
              "<Figure size 640x480 with 1 Axes>"
            ],
            "image/png": "[encoded data removed]"
          },
          "metadata": {}
        }
      ]
    },
    {
      "cell_type": "code",
      "source": [],
      "metadata": {
        "id": "GWyEd8gGPbMA"
      },
      "execution_count": null,
      "outputs": []
    }
  ]
}