{
  "cells": [
    {
      "cell_type": "markdown",
      "metadata": {
        "id": "vQ6IpNlovsNh"
      },
      "source": [
        "# Regresión logística"
      ]
    },
    {
      "cell_type": "code",
      "execution_count": 42,
      "metadata": {
        "id": "pHX08EjFvsNj"
      },
      "outputs": [],
      "source": [
        "import numpy as np\n",
        "import pandas as pd\n",
        "from sklearn import linear_model"
      ]
    },
    {
      "cell_type": "code",
      "execution_count": 43,
      "metadata": {
        "colab": {
          "base_uri": "https://localhost:8080/",
          "height": 206
        },
        "id": "lOaOCR_RvsNk",
        "outputId": "df0ac4ed-6838-41b7-eb14-854e22692a93"
      },
      "outputs": [
        {
          "output_type": "execute_result",
          "data": {
            "text/plain": [
              "   age  ed  employ  address  income  debtinc   creddebt   othdebt  default\n",
              "0   41   3      17       12     176      9.3  11.359392  5.008608      1.0\n",
              "1   27   1      10        6      31     17.3   1.362202  4.000798      0.0\n",
              "2   40   1      15       14      55      5.5   0.856075  2.168925      0.0\n",
              "3   41   1      15       14     120      2.9   2.658720  0.821280      0.0\n",
              "4   24   2       2        0      28     17.3   1.787436  3.056564      1.0"
            ],
            "text/html": [
              "\n",
              "  <div id=\"df-f67d658e-8365-4aaa-b471-24aa5e078a9f\" class=\"colab-df-container\">\n",
              "    <div>\n",
              "<style scoped>\n",
              "    .dataframe tbody tr th:only-of-type {\n",
              "        vertical-align: middle;\n",
              "    }\n",
              "\n",
              "    .dataframe tbody tr th {\n",
              "        vertical-align: top;\n",
              "    }\n",
              "\n",
              "    .dataframe thead th {\n",
              "        text-align: right;\n",
              "    }\n",
              "</style>\n",
              "<table border=\"1\" class=\"dataframe\">\n",
              "  <thead>\n",
              "    <tr style=\"text-align: right;\">\n",
              "      <th></th>\n",
              "      <th>age</th>\n",
              "      <th>ed</th>\n",
              "      <th>employ</th>\n",
              "      <th>address</th>\n",
              "      <th>income</th>\n",
              "      <th>debtinc</th>\n",
              "      <th>creddebt</th>\n",
              "      <th>othdebt</th>\n",
              "      <th>default</th>\n",
              "    </tr>\n",
              "  </thead>\n",
              "  <tbody>\n",
              "    <tr>\n",
              "      <th>0</th>\n",
              "      <td>41</td>\n",
              "      <td>3</td>\n",
              "      <td>17</td>\n",
              "      <td>12</td>\n",
              "      <td>176</td>\n",
              "      <td>9.3</td>\n",
              "      <td>11.359392</td>\n",
              "      <td>5.008608</td>\n",
              "      <td>1.0</td>\n",
              "    </tr>\n",
              "    <tr>\n",
              "      <th>1</th>\n",
              "      <td>27</td>\n",
              "      <td>1</td>\n",
              "      <td>10</td>\n",
              "      <td>6</td>\n",
              "      <td>31</td>\n",
              "      <td>17.3</td>\n",
              "      <td>1.362202</td>\n",
              "      <td>4.000798</td>\n",
              "      <td>0.0</td>\n",
              "    </tr>\n",
              "    <tr>\n",
              "      <th>2</th>\n",
              "      <td>40</td>\n",
              "      <td>1</td>\n",
              "      <td>15</td>\n",
              "      <td>14</td>\n",
              "      <td>55</td>\n",
              "      <td>5.5</td>\n",
              "      <td>0.856075</td>\n",
              "      <td>2.168925</td>\n",
              "      <td>0.0</td>\n",
              "    </tr>\n",
              "    <tr>\n",
              "      <th>3</th>\n",
              "      <td>41</td>\n",
              "      <td>1</td>\n",
              "      <td>15</td>\n",
              "      <td>14</td>\n",
              "      <td>120</td>\n",
              "      <td>2.9</td>\n",
              "      <td>2.658720</td>\n",
              "      <td>0.821280</td>\n",
              "      <td>0.0</td>\n",
              "    </tr>\n",
              "    <tr>\n",
              "      <th>4</th>\n",
              "      <td>24</td>\n",
              "      <td>2</td>\n",
              "      <td>2</td>\n",
              "      <td>0</td>\n",
              "      <td>28</td>\n",
              "      <td>17.3</td>\n",
              "      <td>1.787436</td>\n",
              "      <td>3.056564</td>\n",
              "      <td>1.0</td>\n",
              "    </tr>\n",
              "  </tbody>\n",
              "</table>\n",
              "</div>\n",
              "    <div class=\"colab-df-buttons\">\n",
              "\n",
              "  <div class=\"colab-df-container\">\n",
              "    <button class=\"colab-df-convert\" onclick=\"convertToInteractive('df-f67d658e-8365-4aaa-b471-24aa5e078a9f')\"\n",
              "            title=\"Convert this dataframe to an interactive table.\"\n",
              "            style=\"display:none;\">\n",
              "\n",
              "  <svg xmlns=\"http://www.w3.org/2000/svg\" height=\"24px\" viewBox=\"0 -960 960 960\">\n",
              "    <path d=\"M120-120v-720h720v720H120Zm60-500h600v-160H180v160Zm220 220h160v-160H400v160Zm0 220h160v-160H400v160ZM180-400h160v-160H180v160Zm440 0h160v-160H620v160ZM180-180h160v-160H180v160Zm440 0h160v-160H620v160Z\"/>\n",
              "  </svg>\n",
              "    </button>\n",
              "\n",
              "  <style>\n",
              "    .colab-df-container {\n",
              "      display:flex;\n",
              "      gap: 12px;\n",
              "    }\n",
              "\n",
              "    .colab-df-convert {\n",
              "      background-color: #E8F0FE;\n",
              "      border: none;\n",
              "      border-radius: 50%;\n",
              "      cursor: pointer;\n",
              "      display: none;\n",
              "      fill: #1967D2;\n",
              "      height: 32px;\n",
              "      padding: 0 0 0 0;\n",
              "      width: 32px;\n",
              "    }\n",
              "\n",
              "    .colab-df-convert:hover {\n",
              "      background-color: #E2EBFA;\n",
              "      box-shadow: 0px 1px 2px rgba(60, 64, 67, 0.3), 0px 1px 3px 1px rgba(60, 64, 67, 0.15);\n",
              "      fill: #174EA6;\n",
              "    }\n",
              "\n",
              "    .colab-df-buttons div {\n",
              "      margin-bottom: 4px;\n",
              "    }\n",
              "\n",
              "    [theme=dark] .colab-df-convert {\n",
              "      background-color: #3B4455;\n",
              "      fill: #D2E3FC;\n",
              "    }\n",
              "\n",
              "    [theme=dark] .colab-df-convert:hover {\n",
              "      background-color: #434B5C;\n",
              "      box-shadow: 0px 1px 3px 1px rgba(0, 0, 0, 0.15);\n",
              "      filter: drop-shadow(0px 1px 2px rgba(0, 0, 0, 0.3));\n",
              "      fill: #FFFFFF;\n",
              "    }\n",
              "  </style>\n",
              "\n",
              "    <script>\n",
              "      const buttonEl =\n",
              "        document.querySelector('#df-f67d658e-8365-4aaa-b471-24aa5e078a9f button.colab-df-convert');\n",
              "      buttonEl.style.display =\n",
              "        google.colab.kernel.accessAllowed ? 'block' : 'none';\n",
              "\n",
              "      async function convertToInteractive(key) {\n",
              "        const element = document.querySelector('#df-f67d658e-8365-4aaa-b471-24aa5e078a9f');\n",
              "        const dataTable =\n",
              "          await google.colab.kernel.invokeFunction('convertToInteractive',\n",
              "                                                    [key], {});\n",
              "        if (!dataTable) return;\n",
              "\n",
              "        const docLinkHtml = 'Like what you see? Visit the ' +\n",
              "          '<a target=\"_blank\" href=https://colab.research.google.com/notebooks/data_table.ipynb>data table notebook</a>'\n",
              "          + ' to learn more about interactive tables.';\n",
              "        element.innerHTML = '';\n",
              "        dataTable['output_type'] = 'display_data';\n",
              "        await google.colab.output.renderOutput(dataTable, element);\n",
              "        const docLink = document.createElement('div');\n",
              "        docLink.innerHTML = docLinkHtml;\n",
              "        element.appendChild(docLink);\n",
              "      }\n",
              "    </script>\n",
              "  </div>\n",
              "\n",
              "\n",
              "<div id=\"df-5c195dd6-8363-4420-b326-fc213269986c\">\n",
              "  <button class=\"colab-df-quickchart\" onclick=\"quickchart('df-5c195dd6-8363-4420-b326-fc213269986c')\"\n",
              "            title=\"Suggest charts\"\n",
              "            style=\"display:none;\">\n",
              "\n",
              "<svg xmlns=\"http://www.w3.org/2000/svg\" height=\"24px\"viewBox=\"0 0 24 24\"\n",
              "     width=\"24px\">\n",
              "    <g>\n",
              "        <path d=\"M19 3H5c-1.1 0-2 .9-2 2v14c0 1.1.9 2 2 2h14c1.1 0 2-.9 2-2V5c0-1.1-.9-2-2-2zM9 17H7v-7h2v7zm4 0h-2V7h2v10zm4 0h-2v-4h2v4z\"/>\n",
              "    </g>\n",
              "</svg>\n",
              "  </button>\n",
              "\n",
              "<style>\n",
              "  .colab-df-quickchart {\n",
              "      --bg-color: #E8F0FE;\n",
              "      --fill-color: #1967D2;\n",
              "      --hover-bg-color: #E2EBFA;\n",
              "      --hover-fill-color: #174EA6;\n",
              "      --disabled-fill-color: #AAA;\n",
              "      --disabled-bg-color: #DDD;\n",
              "  }\n",
              "\n",
              "  [theme=dark] .colab-df-quickchart {\n",
              "      --bg-color: #3B4455;\n",
              "      --fill-color: #D2E3FC;\n",
              "      --hover-bg-color: #434B5C;\n",
              "      --hover-fill-color: #FFFFFF;\n",
              "      --disabled-bg-color: #3B4455;\n",
              "      --disabled-fill-color: #666;\n",
              "  }\n",
              "\n",
              "  .colab-df-quickchart {\n",
              "    background-color: var(--bg-color);\n",
              "    border: none;\n",
              "    border-radius: 50%;\n",
              "    cursor: pointer;\n",
              "    display: none;\n",
              "    fill: var(--fill-color);\n",
              "    height: 32px;\n",
              "    padding: 0;\n",
              "    width: 32px;\n",
              "  }\n",
              "\n",
              "  .colab-df-quickchart:hover {\n",
              "    background-color: var(--hover-bg-color);\n",
              "    box-shadow: 0 1px 2px rgba(60, 64, 67, 0.3), 0 1px 3px 1px rgba(60, 64, 67, 0.15);\n",
              "    fill: var(--button-hover-fill-color);\n",
              "  }\n",
              "\n",
              "  .colab-df-quickchart-complete:disabled,\n",
              "  .colab-df-quickchart-complete:disabled:hover {\n",
              "    background-color: var(--disabled-bg-color);\n",
              "    fill: var(--disabled-fill-color);\n",
              "    box-shadow: none;\n",
              "  }\n",
              "\n",
              "  .colab-df-spinner {\n",
              "    border: 2px solid var(--fill-color);\n",
              "    border-color: transparent;\n",
              "    border-bottom-color: var(--fill-color);\n",
              "    animation:\n",
              "      spin 1s steps(1) infinite;\n",
              "  }\n",
              "\n",
              "  @keyframes spin {\n",
              "    0% {\n",
              "      border-color: transparent;\n",
              "      border-bottom-color: var(--fill-color);\n",
              "      border-left-color: var(--fill-color);\n",
              "    }\n",
              "    20% {\n",
              "      border-color: transparent;\n",
              "      border-left-color: var(--fill-color);\n",
              "      border-top-color: var(--fill-color);\n",
              "    }\n",
              "    30% {\n",
              "      border-color: transparent;\n",
              "      border-left-color: var(--fill-color);\n",
              "      border-top-color: var(--fill-color);\n",
              "      border-right-color: var(--fill-color);\n",
              "    }\n",
              "    40% {\n",
              "      border-color: transparent;\n",
              "      border-right-color: var(--fill-color);\n",
              "      border-top-color: var(--fill-color);\n",
              "    }\n",
              "    60% {\n",
              "      border-color: transparent;\n",
              "      border-right-color: var(--fill-color);\n",
              "    }\n",
              "    80% {\n",
              "      border-color: transparent;\n",
              "      border-right-color: var(--fill-color);\n",
              "      border-bottom-color: var(--fill-color);\n",
              "    }\n",
              "    90% {\n",
              "      border-color: transparent;\n",
              "      border-bottom-color: var(--fill-color);\n",
              "    }\n",
              "  }\n",
              "</style>\n",
              "\n",
              "  <script>\n",
              "    async function quickchart(key) {\n",
              "      const quickchartButtonEl =\n",
              "        document.querySelector('#' + key + ' button');\n",
              "      quickchartButtonEl.disabled = true;  // To prevent multiple clicks.\n",
              "      quickchartButtonEl.classList.add('colab-df-spinner');\n",
              "      try {\n",
              "        const charts = await google.colab.kernel.invokeFunction(\n",
              "            'suggestCharts', [key], {});\n",
              "      } catch (error) {\n",
              "        console.error('Error during call to suggestCharts:', error);\n",
              "      }\n",
              "      quickchartButtonEl.classList.remove('colab-df-spinner');\n",
              "      quickchartButtonEl.classList.add('colab-df-quickchart-complete');\n",
              "    }\n",
              "    (() => {\n",
              "      let quickchartButtonEl =\n",
              "        document.querySelector('#df-5c195dd6-8363-4420-b326-fc213269986c button');\n",
              "      quickchartButtonEl.style.display =\n",
              "        google.colab.kernel.accessAllowed ? 'block' : 'none';\n",
              "    })();\n",
              "  </script>\n",
              "</div>\n",
              "    </div>\n",
              "  </div>\n"
            ],
            "application/vnd.google.colaboratory.intrinsic+json": {
              "type": "dataframe",
              "variable_name": "df",
              "summary": "{\n  \"name\": \"df\",\n  \"rows\": 850,\n  \"fields\": [\n    {\n      \"column\": \"age\",\n      \"properties\": {\n        \"dtype\": \"number\",\n        \"std\": 8,\n        \"min\": 20,\n        \"max\": 56,\n        \"num_unique_values\": 37,\n        \"samples\": [\n          26,\n          29,\n          39\n        ],\n        \"semantic_type\": \"\",\n        \"description\": \"\"\n      }\n    },\n    {\n      \"column\": \"ed\",\n      \"properties\": {\n        \"dtype\": \"number\",\n        \"std\": 0,\n        \"min\": 1,\n        \"max\": 5,\n        \"num_unique_values\": 5,\n        \"samples\": [\n          1,\n          5,\n          2\n        ],\n        \"semantic_type\": \"\",\n        \"description\": \"\"\n      }\n    },\n    {\n      \"column\": \"employ\",\n      \"properties\": {\n        \"dtype\": \"number\",\n        \"std\": 6,\n        \"min\": 0,\n        \"max\": 33,\n        \"num_unique_values\": 33,\n        \"samples\": [\n          28,\n          23,\n          21\n        ],\n        \"semantic_type\": \"\",\n        \"description\": \"\"\n      }\n    },\n    {\n      \"column\": \"address\",\n      \"properties\": {\n        \"dtype\": \"number\",\n        \"std\": 6,\n        \"min\": 0,\n        \"max\": 34,\n        \"num_unique_values\": 32,\n        \"samples\": [\n          31,\n          26,\n          17\n        ],\n        \"semantic_type\": \"\",\n        \"description\": \"\"\n      }\n    },\n    {\n      \"column\": \"income\",\n      \"properties\": {\n        \"dtype\": \"number\",\n        \"std\": 38,\n        \"min\": 13,\n        \"max\": 446,\n        \"num_unique_values\": 129,\n        \"samples\": [\n          73,\n          75,\n          52\n        ],\n        \"semantic_type\": \"\",\n        \"description\": \"\"\n      }\n    },\n    {\n      \"column\": \"debtinc\",\n      \"properties\": {\n        \"dtype\": \"number\",\n        \"std\": 6.719441292022336,\n        \"min\": 0.1,\n        \"max\": 41.3,\n        \"num_unique_values\": 245,\n        \"samples\": [\n          16.7,\n          3.6,\n          14.6\n        ],\n        \"semantic_type\": \"\",\n        \"description\": \"\"\n      }\n    },\n    {\n      \"column\": \"creddebt\",\n      \"properties\": {\n        \"dtype\": \"number\",\n        \"std\": 2.125840011045456,\n        \"min\": 0.011696,\n        \"max\": 20.56131,\n        \"num_unique_values\": 842,\n        \"samples\": [\n          1.19493,\n          1.300537,\n          2.863757\n        ],\n        \"semantic_type\": \"\",\n        \"description\": \"\"\n      }\n    },\n    {\n      \"column\": \"othdebt\",\n      \"properties\": {\n        \"dtype\": \"number\",\n        \"std\": 3.398803280584907,\n        \"min\": 0.045584,\n        \"max\": 35.1975,\n        \"num_unique_values\": 848,\n        \"samples\": [\n          2.663976,\n          0.738396,\n          1.45236\n        ],\n        \"semantic_type\": \"\",\n        \"description\": \"\"\n      }\n    },\n    {\n      \"column\": \"default\",\n      \"properties\": {\n        \"dtype\": \"number\",\n        \"std\": 0.43972707660624494,\n        \"min\": 0.0,\n        \"max\": 1.0,\n        \"num_unique_values\": 2,\n        \"samples\": [\n          0.0,\n          1.0\n        ],\n        \"semantic_type\": \"\",\n        \"description\": \"\"\n      }\n    }\n  ]\n}"
            }
          },
          "metadata": {},
          "execution_count": 43
        }
      ],
      "source": [
        "df = pd.read_csv('bank-loan.csv')\n",
        "df.head()"
      ]
    },
    {
      "cell_type": "code",
      "execution_count": 44,
      "metadata": {
        "colab": {
          "base_uri": "https://localhost:8080/"
        },
        "id": "gIMDzTO-vsNk",
        "outputId": "989ca646-e905-4558-fe64-fec32fcf68b5"
      },
      "outputs": [
        {
          "output_type": "execute_result",
          "data": {
            "text/plain": [
              "(850, 9)"
            ]
          },
          "metadata": {},
          "execution_count": 44
        }
      ],
      "source": [
        "df.shape"
      ]
    },
    {
      "cell_type": "code",
      "execution_count": 45,
      "metadata": {
        "colab": {
          "base_uri": "https://localhost:8080/"
        },
        "id": "BpeNAOy1vsNk",
        "outputId": "7ead7d61-4557-44ee-db48-8fe1acc8eb51"
      },
      "outputs": [
        {
          "output_type": "stream",
          "name": "stdout",
          "text": [
            "<class 'pandas.core.frame.DataFrame'>\n",
            "RangeIndex: 850 entries, 0 to 849\n",
            "Data columns (total 9 columns):\n",
            " #   Column    Non-Null Count  Dtype  \n",
            "---  ------    --------------  -----  \n",
            " 0   age       850 non-null    int64  \n",
            " 1   ed        850 non-null    int64  \n",
            " 2   employ    850 non-null    int64  \n",
            " 3   address   850 non-null    int64  \n",
            " 4   income    850 non-null    int64  \n",
            " 5   debtinc   850 non-null    float64\n",
            " 6   creddebt  850 non-null    float64\n",
            " 7   othdebt   850 non-null    float64\n",
            " 8   default   700 non-null    float64\n",
            "dtypes: float64(4), int64(5)\n",
            "memory usage: 59.9 KB\n"
          ]
        }
      ],
      "source": [
        "df.info()"
      ]
    },
    {
      "cell_type": "code",
      "execution_count": 46,
      "metadata": {
        "id": "rthy84AcvsNl"
      },
      "outputs": [],
      "source": [
        "# Extraer las columnas que usaremos para x,y\n",
        "x = df.iloc[:700,:8].values\n",
        "y = df.iloc[:700,8].values"
      ]
    },
    {
      "cell_type": "code",
      "execution_count": 47,
      "metadata": {
        "id": "WLj52TYnvsNl"
      },
      "outputs": [],
      "source": [
        "# Dividir los datos en datasets de prueba y entrenamiento\n",
        "\n",
        "from sklearn.model_selection import train_test_split\n",
        "X_train, X_test, Y_train, Y_test = train_test_split (x, y, test_size=0.3, random_state=0)"
      ]
    },
    {
      "cell_type": "code",
      "execution_count": 48,
      "metadata": {
        "id": "ksndoiF2vsNm"
      },
      "outputs": [],
      "source": [
        "# Ajustar (entrenar) el clasificador de regresión logística\n",
        "lgm = linear_model.LogisticRegression(C=1e40, solver='newton-cg')\n",
        "hw_model = lgm.fit(X_train, Y_train)"
      ]
    },
    {
      "cell_type": "code",
      "execution_count": 49,
      "metadata": {
        "id": "lZLksfAyvsNm"
      },
      "outputs": [],
      "source": [
        "Y_train_pred = hw_model.predict(X_train)\n",
        "Y_test_pred = hw_model.predict(X_test)\n",
        "x_prediction =df.iloc[700:,:8].values\n",
        "y_prediccion_pred = hw_model.predict(x_prediction)"
      ]
    },
    {
      "cell_type": "code",
      "execution_count": 50,
      "metadata": {
        "id": "Gprytz6rvsNm",
        "colab": {
          "base_uri": "https://localhost:8080/"
        },
        "outputId": "37993d0f-49aa-4412-8a34-2ee56d5c6976"
      },
      "outputs": [
        {
          "output_type": "stream",
          "name": "stdout",
          "text": [
            "Cliente  1 : No Default\n",
            "Cliente  2 : No Default\n",
            "Cliente  3 : Default\n",
            "Cliente  4 : No Default\n",
            "Cliente  5 : No Default\n",
            "Cliente  6 : No Default\n",
            "Cliente  7 : No Default\n",
            "Cliente  8 : Default\n",
            "Cliente  9 : No Default\n",
            "Cliente  10 : No Default\n",
            "Cliente  11 : No Default\n",
            "Cliente  12 : No Default\n",
            "Cliente  13 : No Default\n",
            "Cliente  14 : No Default\n",
            "Cliente  15 : No Default\n",
            "Cliente  16 : No Default\n",
            "Cliente  17 : Default\n",
            "Cliente  18 : No Default\n",
            "Cliente  19 : No Default\n",
            "Cliente  20 : No Default\n",
            "Cliente  21 : No Default\n",
            "Cliente  22 : No Default\n",
            "Cliente  23 : No Default\n",
            "Cliente  24 : No Default\n",
            "Cliente  25 : No Default\n",
            "Cliente  26 : No Default\n",
            "Cliente  27 : No Default\n",
            "Cliente  28 : No Default\n",
            "Cliente  29 : No Default\n",
            "Cliente  30 : No Default\n",
            "Cliente  31 : No Default\n",
            "Cliente  32 : No Default\n",
            "Cliente  33 : Default\n",
            "Cliente  34 : No Default\n",
            "Cliente  35 : No Default\n",
            "Cliente  36 : No Default\n",
            "Cliente  37 : No Default\n",
            "Cliente  38 : No Default\n",
            "Cliente  39 : No Default\n",
            "Cliente  40 : No Default\n",
            "Cliente  41 : Default\n",
            "Cliente  42 : No Default\n",
            "Cliente  43 : No Default\n",
            "Cliente  44 : No Default\n",
            "Cliente  45 : No Default\n",
            "Cliente  46 : Default\n",
            "Cliente  47 : No Default\n",
            "Cliente  48 : No Default\n",
            "Cliente  49 : No Default\n",
            "Cliente  50 : No Default\n",
            "Cliente  51 : No Default\n",
            "Cliente  52 : No Default\n",
            "Cliente  53 : No Default\n",
            "Cliente  54 : No Default\n",
            "Cliente  55 : No Default\n",
            "Cliente  56 : No Default\n",
            "Cliente  57 : Default\n",
            "Cliente  58 : No Default\n",
            "Cliente  59 : No Default\n",
            "Cliente  60 : No Default\n",
            "Cliente  61 : No Default\n",
            "Cliente  62 : No Default\n",
            "Cliente  63 : No Default\n",
            "Cliente  64 : Default\n",
            "Cliente  65 : No Default\n",
            "Cliente  66 : No Default\n",
            "Cliente  67 : No Default\n",
            "Cliente  68 : No Default\n",
            "Cliente  69 : No Default\n",
            "Cliente  70 : No Default\n",
            "Cliente  71 : Default\n",
            "Cliente  72 : No Default\n",
            "Cliente  73 : No Default\n",
            "Cliente  74 : Default\n",
            "Cliente  75 : No Default\n",
            "Cliente  76 : No Default\n",
            "Cliente  77 : No Default\n",
            "Cliente  78 : Default\n",
            "Cliente  79 : No Default\n",
            "Cliente  80 : No Default\n",
            "Cliente  81 : No Default\n",
            "Cliente  82 : Default\n",
            "Cliente  83 : No Default\n",
            "Cliente  84 : No Default\n",
            "Cliente  85 : Default\n",
            "Cliente  86 : No Default\n",
            "Cliente  87 : No Default\n",
            "Cliente  88 : No Default\n",
            "Cliente  89 : No Default\n",
            "Cliente  90 : Default\n",
            "Cliente  91 : No Default\n",
            "Cliente  92 : No Default\n",
            "Cliente  93 : No Default\n",
            "Cliente  94 : No Default\n",
            "Cliente  95 : No Default\n",
            "Cliente  96 : No Default\n",
            "Cliente  97 : No Default\n",
            "Cliente  98 : No Default\n",
            "Cliente  99 : No Default\n",
            "Cliente  100 : No Default\n",
            "Cliente  101 : No Default\n",
            "Cliente  102 : Default\n",
            "Cliente  103 : No Default\n",
            "Cliente  104 : Default\n",
            "Cliente  105 : No Default\n",
            "Cliente  106 : No Default\n",
            "Cliente  107 : No Default\n",
            "Cliente  108 : Default\n",
            "Cliente  109 : No Default\n",
            "Cliente  110 : No Default\n",
            "Cliente  111 : Default\n",
            "Cliente  112 : No Default\n",
            "Cliente  113 : No Default\n",
            "Cliente  114 : No Default\n",
            "Cliente  115 : No Default\n",
            "Cliente  116 : No Default\n",
            "Cliente  117 : No Default\n",
            "Cliente  118 : No Default\n",
            "Cliente  119 : No Default\n",
            "Cliente  120 : No Default\n",
            "Cliente  121 : No Default\n",
            "Cliente  122 : No Default\n",
            "Cliente  123 : Default\n",
            "Cliente  124 : No Default\n",
            "Cliente  125 : No Default\n",
            "Cliente  126 : Default\n",
            "Cliente  127 : Default\n",
            "Cliente  128 : No Default\n",
            "Cliente  129 : No Default\n",
            "Cliente  130 : No Default\n",
            "Cliente  131 : No Default\n",
            "Cliente  132 : No Default\n",
            "Cliente  133 : No Default\n",
            "Cliente  134 : No Default\n",
            "Cliente  135 : No Default\n",
            "Cliente  136 : No Default\n",
            "Cliente  137 : Default\n",
            "Cliente  138 : No Default\n",
            "Cliente  139 : No Default\n",
            "Cliente  140 : No Default\n",
            "Cliente  141 : Default\n",
            "Cliente  142 : No Default\n",
            "Cliente  143 : No Default\n",
            "Cliente  144 : No Default\n",
            "Cliente  145 : No Default\n",
            "Cliente  146 : No Default\n",
            "Cliente  147 : No Default\n",
            "Cliente  148 : No Default\n",
            "Cliente  149 : No Default\n",
            "Cliente  150 : No Default\n"
          ]
        }
      ],
      "source": [
        "# Predicción\n",
        "for i in range(150):\n",
        "  if y_prediccion_pred[i]==0:\n",
        "    result = \"No Default\"\n",
        "  else:\n",
        "    result = \"Default\"\n",
        "  # Predicción\n",
        "  print(\"Cliente \", i+1,\":\",result)\n"
      ]
    },
    {
      "cell_type": "markdown",
      "source": [
        "## KNN"
      ],
      "metadata": {
        "id": "U7IFyvZIaWah"
      }
    },
    {
      "cell_type": "code",
      "source": [
        "from sklearn.neighbors import KNeighborsClassifier\n",
        "from sklearn.preprocessing import StandardScaler\n",
        "from sklearn.metrics import classification_report\n",
        "scaler = StandardScaler()\n",
        "scaler.fit(X_train)\n",
        "X_train_scaled = scaler.transform(X_train)\n",
        "X_test_scaled = scaler.transform(X_test)\n",
        "X_train, X_test, y_train, y_test = train_test_split(x, y, test_size=0.3, random_state=42)\n",
        "k = 5 # Este es un ejemplo, puedes ajustar el valor de K\n",
        "knn_classifier = KNeighborsClassifier(n_neighbors=k)\n",
        "knn_classifier.fit(X_train_scaled, y_train)\n",
        "y_pred = knn_classifier.predict(X_test_scaled)\n",
        "report = classification_report(y_test, y_pred)\n",
        "print(f'Reporte de clasificación:\\n{report}')"
      ],
      "metadata": {
        "colab": {
          "base_uri": "https://localhost:8080/"
        },
        "id": "EbcgyNJRZgx0",
        "outputId": "1277dbc8-64eb-4053-f983-0757efa1232a"
      },
      "execution_count": 51,
      "outputs": [
        {
          "output_type": "stream",
          "name": "stdout",
          "text": [
            "Reporte de clasificación:\n",
            "              precision    recall  f1-score   support\n",
            "\n",
            "         0.0       0.75      0.82      0.78       161\n",
            "         1.0       0.15      0.10      0.12        49\n",
            "\n",
            "    accuracy                           0.65       210\n",
            "   macro avg       0.45      0.46      0.45       210\n",
            "weighted avg       0.61      0.65      0.63       210\n",
            "\n"
          ]
        }
      ]
    },
    {
      "cell_type": "markdown",
      "source": [
        "# Arbol de decision"
      ],
      "metadata": {
        "id": "zPvYFsioaa77"
      }
    },
    {
      "cell_type": "code",
      "source": [
        "from sklearn.model_selection import train_test_split, GridSearchCV\n",
        "from sklearn.tree import DecisionTreeClassifier\n",
        "import sklearn.tree as tree\n",
        "from sklearn.metrics import accuracy_score, confusion_matrix\n",
        "import seaborn as sns\n",
        "import matplotlib.pyplot as plt\n",
        "\n",
        "# Split the data into training and testing sets\n",
        "X_train, X_test, y_train, y_test = train_test_split(x, y, test_size=0.3, random_state=42)\n",
        "\n",
        "# Define the classifier (Decision Tree)\n",
        "classifier = DecisionTreeClassifier()\n",
        "\n",
        "# Define the hyperparameter grid to search\n",
        "param_grid = {\n",
        "    'max_depth': [None, 10, 20],\n",
        "    'min_samples_split': [2, 5, 10],\n",
        "    'min_samples_leaf': [1, 2, 4]\n",
        "}\n",
        "\n",
        "# Create the GridSearchCV object\n",
        "grid_search = GridSearchCV(classifier, param_grid, cv=5, scoring='accuracy')\n",
        "\n",
        "# Fit the grid search to the data\n",
        "grid_search.fit(X_train, y_train)\n",
        "\n",
        "# Get the best model\n",
        "best_model = grid_search.best_estimator_\n",
        "\n",
        "# Print the best hyperparameter values\n",
        "print(\"Best Hyperparameters:\", grid_search.best_params_)\n",
        "\n",
        "# Make predictions on the test set\n",
        "y_pred = best_model.predict(X_test)\n",
        "\n",
        "# Evaluate the model\n",
        "accuracy = accuracy_score(y_test, y_pred)\n",
        "print(\"Accuracy on the test set:\", accuracy)\n",
        "\n",
        "# Compute confusion matrix\n",
        "cm = confusion_matrix(y_test, y_pred)\n",
        "\n",
        "# Display the confusion matrix using a heatmap\n",
        "plt.figure(figsize=(8, 6))\n",
        "sns.heatmap(cm, annot=True, fmt='d', cmap='Blues', xticklabels=['No Default', 'Default'], yticklabels=['No Default', 'Default'])\n",
        "plt.xlabel('Predicted')\n",
        "plt.ylabel('Actual')\n",
        "plt.title('Confusion Matrix')\n",
        "plt.show()"
      ],
      "metadata": {
        "colab": {
          "base_uri": "https://localhost:8080/",
          "height": 599
        },
        "id": "Lw3_qKFFafYl",
        "outputId": "2d5d1104-7dcc-4b72-a2c5-e39632a5a402"
      },
      "execution_count": 52,
      "outputs": [
        {
          "output_type": "stream",
          "name": "stdout",
          "text": [
            "Best Hyperparameters: {'max_depth': 10, 'min_samples_leaf': 4, 'min_samples_split': 5}\n",
            "Accuracy on the test set: 0.7761904761904762\n"
          ]
        },
        {
          "output_type": "display_data",
          "data": {
            "text/plain": [
              "<Figure size 800x600 with 2 Axes>"
            ],
            "image/png": "[encoded data removed]"
          },
          "metadata": {}
        }
      ]
    },
    {
      "cell_type": "code",
      "source": [
        "bankTree = DecisionTreeClassifier(criterion=\"entropy\", max_depth = 10,min_samples_leaf=4,min_samples_split=5)\n",
        "bankTree # it shows the default parameters\n",
        "bankTree.fit(X_train,y_train)\n",
        "predTree = bankTree.predict(X_test)\n",
        "from sklearn import metrics\n",
        "import matplotlib.pyplot as plt\n",
        "print(\"DecisionTrees's Accuracy: \", metrics.accuracy_score(y_test, predTree))\n",
        "tree.plot_tree(bankTree)\n",
        "plt.show()"
      ],
      "metadata": {
        "colab": {
          "base_uri": "https://localhost:8080/",
          "height": 423
        },
        "id": "_oFWEsQ-bOiq",
        "outputId": "e116aae8-241e-4c30-f20c-9cb12cb16073"
      },
      "execution_count": 53,
      "outputs": [
        {
          "output_type": "stream",
          "name": "stdout",
          "text": [
            "DecisionTrees's Accuracy:  0.7761904761904762\n"
          ]
        },
        {
          "output_type": "display_data",
          "data": {
            "text/plain": [
              "<Figure size 640x480 with 1 Axes>"
            ],
            "image/png": "[encoded data removed]"
          },
          "metadata": {}
        }
      ]
    },
    {
      "cell_type": "markdown",
      "metadata": {
        "id": "iBnTMqMuvsNn"
      },
      "source": [
        "### Mostrar los valores de los parámetros\n",
        "![alt text](https://miro.medium.com/max/2220/1*siWAvCzFy2zp81pDNoa4UA.png)"
      ]
    },
    {
      "cell_type": "code",
      "execution_count": 54,
      "metadata": {
        "colab": {
          "base_uri": "https://localhost:8080/"
        },
        "id": "KiUJ11MLvsNn",
        "outputId": "c9fd0c70-3f43-4d07-e6ab-9b2fc8aed684"
      },
      "outputs": [
        {
          "output_type": "stream",
          "name": "stdout",
          "text": [
            "[-0.89488919]\n",
            "[[ 0.00843077  0.12011979 -0.25303381 -0.09506417 -0.00470533  0.04583699\n",
            "   0.64086561  0.10047013]]\n"
          ]
        }
      ],
      "source": [
        "# Se tienen 3 valores de theta\n",
        "\n",
        "# para theta_0\n",
        "print (hw_model.intercept_)\n",
        "print(hw_model.coef_)"
      ]
    },
    {
      "cell_type": "markdown",
      "metadata": {
        "id": "0Fm-8evhvsNn"
      },
      "source": [
        "## Modelos de clasificación y métricas"
      ]
    },
    {
      "cell_type": "code",
      "execution_count": 55,
      "metadata": {
        "id": "vX06QOJLvsNn"
      },
      "outputs": [],
      "source": [
        "# Importar modelos y clases de evaluación de rendimiento desde sklearn\n",
        "\n",
        "from sklearn.linear_model import LogisticRegression\n",
        "# from sklearn.ensemble import RandomForestClassifier\n",
        "\n",
        "from sklearn.metrics import classification_report\n",
        "from sklearn.metrics import confusion_matrix\n",
        "from sklearn.metrics import accuracy_score\n",
        "from sklearn.metrics import roc_auc_score"
      ]
    },
    {
      "cell_type": "code",
      "execution_count": 56,
      "metadata": {
        "id": "x82yWQMWvsNo",
        "colab": {
          "base_uri": "https://localhost:8080/"
        },
        "outputId": "f771f9bb-22bf-4226-a1df-2dc0db332b2c"
      },
      "outputs": [
        {
          "output_type": "stream",
          "name": "stdout",
          "text": [
            " Exactitud (Accuracy) 80.48%\n",
            "\n",
            "Matriz de confusión\n",
            "\n",
            "[[147   8]\n",
            " [ 33  22]]\n",
            "\n",
            "Verdaderos negativos:  147\n",
            "\n",
            "Falsos positivos:  8\n",
            "\n",
            "Falsos negativos:  33\n",
            "\n",
            "Verdaderos positivos:  22\n"
          ]
        }
      ],
      "source": [
        "print(\" Exactitud (Accuracy) {0:.2f}%\\n\".format(100*\n",
        "                        accuracy_score(Y_test, Y_test_pred)))\n",
        "\n",
        "# Muestra la matriz de confusión\n",
        "print('Matriz de confusión\\n')\n",
        "print(confusion_matrix(Y_test, Y_test_pred))\n",
        "\n",
        "# tn, fp, fn, tp = confusion_matrix(logreg_prediction, Y_test).ravel()\n",
        "tn, fp, fn, tp = confusion_matrix(Y_test,Y_test_pred).ravel()\n",
        "print (\"\\nVerdaderos negativos: \", tn)\n",
        "print (\"\\nFalsos positivos: \",fp)\n",
        "print (\"\\nFalsos negativos: \",fn)\n",
        "print (\"\\nVerdaderos positivos: \",tp)"
      ]
    },
    {
      "cell_type": "code",
      "execution_count": 57,
      "metadata": {
        "id": "tNwIrjhhvsNo",
        "colab": {
          "base_uri": "https://localhost:8080/"
        },
        "outputId": "e8273d0e-532f-4477-a039-3ab65fc6697c"
      },
      "outputs": [
        {
          "output_type": "stream",
          "name": "stdout",
          "text": [
            "              precision    recall  f1-score   support\n",
            "\n",
            "         0.0       0.82      0.95      0.88       155\n",
            "         1.0       0.73      0.40      0.52        55\n",
            "\n",
            "    accuracy                           0.80       210\n",
            "   macro avg       0.77      0.67      0.70       210\n",
            "weighted avg       0.79      0.80      0.78       210\n",
            "\n"
          ]
        }
      ],
      "source": [
        "# Reporte de clasificación\n",
        "print(classification_report(Y_test, Y_test_pred))"
      ]
    },
    {
      "cell_type": "code",
      "execution_count": 58,
      "metadata": {
        "id": "w1fXFh2zvsNo",
        "colab": {
          "base_uri": "https://localhost:8080/"
        },
        "outputId": "20d88cfd-f208-4032-a0b3-a5d75008ee07"
      },
      "outputs": [
        {
          "output_type": "stream",
          "name": "stdout",
          "text": [
            "Puntaje ROC-AUC Regresión Logística 0.67\n"
          ]
        }
      ],
      "source": [
        "# Obtener el puntaje ROC-AUC\n",
        "print(\"Puntaje ROC-AUC Regresión Logística {0:.2f}\".\n",
        "         format(roc_auc_score(Y_test, Y_test_pred)))"
      ]
    }
  ],
  "metadata": {
    "kernelspec": {
      "display_name": "Python 3 (ipykernel)",
      "language": "python",
      "name": "python3"
    },
    "language_info": {
      "codemirror_mode": {
        "name": "ipython",
        "version": 3
      },
      "file_extension": ".py",
      "mimetype": "text/x-python",
      "name": "python",
      "nbconvert_exporter": "python",
      "pygments_lexer": "ipython3",
      "version": "3.9.12"
    },
    "vscode": {
      "interpreter": {
        "hash": "ca63332314893c5165355942eb49d0fb9334aa370d01e4b21a19e6e45b9282a0"
      }
    },
    "colab": {
      "provenance": []
    }
  },
  "nbformat": 4,
  "nbformat_minor": 0
}